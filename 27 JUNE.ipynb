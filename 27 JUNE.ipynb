{
 "cells": [
  {
   "cell_type": "code",
   "execution_count": 38,
   "metadata": {},
   "outputs": [
    {
     "name": "stdout",
     "output_type": "stream",
     "text": [
      "The file is created and data is stored Successfully\n",
      "The file is created and data is stored Successfully\n",
      "The file is created and data is stored Successfully\n"
     ]
    }
   ],
   "source": [
    "# function to creat file and write some data\n",
    "def createfile(filename):\n",
    "    f=open(filename,\"w\")\n",
    "    for i in range(10):\n",
    "        f.write(\" This is %d Line \\n\" % i)\n",
    "    print(\"The file is created and data is stored Successfully\")\n",
    "    f.close()\n",
    "    return\n",
    "createfile(\"chinmay.txt\")\n",
    "createfile(\"rohan.txt\")\n",
    "createfile(\"charith.txt\")    "
   ]
  },
  {
   "cell_type": "code",
   "execution_count": 39,
   "metadata": {},
   "outputs": [
    {
     "name": "stdout",
     "output_type": "stream",
     "text": [
      " This is 0 Line \n",
      " This is 1 Line \n",
      " This is 2 Line \n",
      " This is 3 Line \n",
      " This is 4 Line \n",
      " This is 5 Line \n",
      " This is 6 Line \n",
      " This is 7 Line \n",
      " This is 8 Line \n",
      " This is 9 Line \n",
      "\n"
     ]
    }
   ],
   "source": [
    "## function to read the file \n",
    "def readfile(filename):\n",
    "    f=open(filename,\"r\")\n",
    "    if f.mode==\"r\":\n",
    "        x=f.read()\n",
    "        print(x)\n",
    "    f.close()\n",
    "    return\n",
    "readfile(\"chinmay.txt\")\n",
    "    "
   ]
  },
  {
   "cell_type": "code",
   "execution_count": 40,
   "metadata": {},
   "outputs": [
    {
     "name": "stdout",
     "output_type": "stream",
     "text": [
      "The data is appended\n",
      " This is 0 Line \n",
      " This is 1 Line \n",
      " This is 2 Line \n",
      " This is 3 Line \n",
      " This is 4 Line \n",
      " This is 5 Line \n",
      " This is 6 Line \n",
      " This is 7 Line \n",
      " This is 8 Line \n",
      " This is 9 Line \n",
      "new line 1\n",
      "newline\n"
     ]
    }
   ],
   "source": [
    "# function to append the datatexixting file\n",
    "def appenddata(filename):\n",
    "    f=open(filename,\"a\")\n",
    "    f.write(\"new line 1\\n\")\n",
    "    f.write(\"newline\")\n",
    "    print(\"The data is appended\")\n",
    "    return\n",
    "appenddata(\"chinmay.txt\")\n",
    "readfile(\"chinmay.txt\")"
   ]
  },
  {
   "cell_type": "code",
   "execution_count": 41,
   "metadata": {},
   "outputs": [
    {
     "name": "stdout",
     "output_type": "stream",
     "text": [
      "188\n"
     ]
    }
   ],
   "source": [
    "# count of charecters in a file\n",
    "def countcharecter(filename):\n",
    "    f=open(filename)\n",
    "    if f.mode ==\"r\":\n",
    "        x=f.read()\n",
    "        lst=list(x)\n",
    "    return len(lst)\n",
    "print(countcharecter(\"chinmay.txt\"))"
   ]
  },
  {
   "cell_type": "code",
   "execution_count": 42,
   "metadata": {},
   "outputs": [
    {
     "name": "stdout",
     "output_type": "stream",
     "text": [
      "20\n"
     ]
    }
   ],
   "source": [
    "# count the capital charecters in a file\n",
    "def countcapital(filename):\n",
    "    countupper=0\n",
    "    f=open(filename)\n",
    "    if f.mode==\"r\": \n",
    "        x=f.read()\n",
    "        lst=list(x)\n",
    "    for i in lst:\n",
    "        if i.isupper():\n",
    "            countupper +=1\n",
    "    return countupper\n",
    "    \n",
    "print(countcapital(\"chinmay.txt\"))"
   ]
  },
  {
   "cell_type": "code",
   "execution_count": 47,
   "metadata": {},
   "outputs": [
    {
     "name": "stdout",
     "output_type": "stream",
     "text": [
      "94\n"
     ]
    }
   ],
   "source": [
    "def countsmall(filename):\n",
    "    countlower=0\n",
    "    f=open(filename)\n",
    "    if f.mode==\"r\": \n",
    "        x=f.read()\n",
    "        lst=list(x)\n",
    "    for i in lst:\n",
    "        if i.islower():\n",
    "            countlower +=1\n",
    "    return countlower\n",
    "    \n",
    "print(countsmall(\"chinmay.txt\"))"
   ]
  },
  {
   "cell_type": "code",
   "execution_count": 50,
   "metadata": {},
   "outputs": [
    {
     "data": {
      "text/plain": [
       "12"
      ]
     },
     "execution_count": 50,
     "metadata": {},
     "output_type": "execute_result"
    }
   ],
   "source": [
    "# to find the count theloines ofthe file\n",
    "def countline(filename):\n",
    "    f=open(filename,\"r\")\n",
    "    if f.mode==\"r\":\n",
    "        x=f.read()\n",
    "        lst=x.split(\"\\n\")\n",
    "    return len(lst)\n",
    "countline(\"chinmay.txt\")"
   ]
  },
  {
   "cell_type": "code",
   "execution_count": 56,
   "metadata": {},
   "outputs": [
    {
     "name": "stdout",
     "output_type": "stream",
     "text": [
      "True\n",
      "False\n"
     ]
    }
   ],
   "source": [
    "# regular expressions\n",
    "import re\n",
    "def phonenumbervalidate(phone):\n",
    "    pattern=\"^[6-9][0-9]{9}$\"\n",
    "    phone=str(phone)\n",
    "    if re.match(pattern,phone):\n",
    "        return True\n",
    "    return False\n",
    "print(phonenumbervalidate(9030997968))\n",
    "print(phonenumbervalidate(5553900396))"
   ]
  },
  {
   "cell_type": "code",
   "execution_count": 61,
   "metadata": {},
   "outputs": [
    {
     "name": "stdout",
     "output_type": "stream",
     "text": [
      "True\n",
      "False\n"
     ]
    }
   ],
   "source": [
    "#valid phone number \n",
    "import re\n",
    "def phonenumbervalidate(phone):\n",
    "    pattern=\"^[0-1][4][0][-][0-9]{6}$\"\n",
    "    phone=str(phone)\n",
    "    if re.match(pattern,phone):\n",
    "        return True\n",
    "    return False\n",
    "print(phonenumbervalidate(\"040-997968\"))\n",
    "print(phonenumbervalidate(5553900396))"
   ]
  },
  {
   "cell_type": "code",
   "execution_count": 64,
   "metadata": {},
   "outputs": [
    {
     "name": "stdout",
     "output_type": "stream",
     "text": [
      "True\n",
      "False\n"
     ]
    }
   ],
   "source": [
    "## rollnumbers\n",
    "import re\n",
    "def phonenumbervalidate(phone):\n",
    "    pattern=\"^[2][2][1][8][1][0-9]{7}$\"\n",
    "    phone=str(phone)\n",
    "    if re.match(pattern,phone):\n",
    "        return True\n",
    "    return False\n",
    "print(phonenumbervalidate(221810304040))\n",
    "print(phonenumbervalidate(5553900396))"
   ]
  },
  {
   "cell_type": "code",
   "execution_count": 67,
   "metadata": {},
   "outputs": [
    {
     "name": "stdout",
     "output_type": "stream",
     "text": [
      "True\n",
      "False\n"
     ]
    }
   ],
   "source": [
    "# unique words\n",
    "\n",
    "import re\n",
    "def phonenumbervalidate(phone):\n",
    "    pattern=\"^[1][2][5][U][K][a-z][0-9]$\"\n",
    "    phone=str(phone)\n",
    "    if re.match(pattern,phone):\n",
    "        return True\n",
    "    return False\n",
    "print(phonenumbervalidate(\"125UKc8\"))\n",
    "print(phonenumbervalidate(5553900396))"
   ]
  },
  {
   "cell_type": "code",
   "execution_count": null,
   "metadata": {},
   "outputs": [],
   "source": []
  },
  {
   "cell_type": "markdown",
   "metadata": {},
   "source": [
    "### validate vehicle number TS\n",
    "* TS 10 RR 8444\n"
   ]
  },
  {
   "cell_type": "code",
   "execution_count": 70,
   "metadata": {
    "scrolled": true
   },
   "outputs": [
    {
     "name": "stdout",
     "output_type": "stream",
     "text": [
      "True\n",
      "False\n"
     ]
    }
   ],
   "source": [
    "import re\n",
    "def phonenumbervalidate(phone):\n",
    "    pattern=\"^[T][S][ ][1][0][ ][B][A][ ][8][4][0-9]{2}$\"\n",
    "    phone=str(phone)\n",
    "    if re.match(pattern,phone):\n",
    "        return True\n",
    "    return False\n",
    "print(phonenumbervalidate(\"TS 10 BA 8444\"))\n",
    "print(phonenumbervalidate(5553900396))"
   ]
  },
  {
   "cell_type": "code",
   "execution_count": 79,
   "metadata": {},
   "outputs": [
    {
     "name": "stdout",
     "output_type": "stream",
     "text": [
      "True\n"
     ]
    }
   ],
   "source": [
    "import re\n",
    "def em(i):\n",
    "    p='^[0-9a-z][0-9a-z_.]{4,13}[0-9a-z][@][a-z0-9]{3,18}[.][a-z]{2,4}$'\n",
    "    if re.match(p,i):\n",
    "        return True\n",
    "    else:\n",
    "        return False\n",
    "print(em('charithblue22@gmail.com'))    \n",
    "\n"
   ]
  },
  {
   "cell_type": "code",
   "execution_count": 90,
   "metadata": {},
   "outputs": [
    {
     "name": "stdout",
     "output_type": "stream",
     "text": [
      "False\n",
      "True\n"
     ]
    }
   ],
   "source": [
    "import re\n",
    "def em(i):\n",
    "    p=\"^[a-zA-Z0-9!@#$]{6,15}$\"\n",
    "    if re.match(p,i):\n",
    "        return True\n",
    "\n",
    "    return False\n",
    "print(em('ALPHA%$'))    \n",
    "print(em(\"passwo8\"))"
   ]
  },
  {
   "cell_type": "code",
   "execution_count": null,
   "metadata": {},
   "outputs": [],
   "source": []
  },
  {
   "cell_type": "code",
   "execution_count": null,
   "metadata": {},
   "outputs": [],
   "source": []
  }
 ],
 "metadata": {
  "kernelspec": {
   "display_name": "Python 3",
   "language": "python",
   "name": "python3"
  },
  "language_info": {
   "codemirror_mode": {
    "name": "ipython",
    "version": 3
   },
   "file_extension": ".py",
   "mimetype": "text/x-python",
   "name": "python",
   "nbconvert_exporter": "python",
   "pygments_lexer": "ipython3",
   "version": "3.7.3"
  }
 },
 "nbformat": 4,
 "nbformat_minor": 2
}
