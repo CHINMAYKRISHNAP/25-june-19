{
 "cells": [
  {
   "cell_type": "markdown",
   "metadata": {},
   "source": [
    "# upper lower functions"
   ]
  },
  {
   "cell_type": "code",
   "execution_count": 9,
   "metadata": {},
   "outputs": [
    {
     "name": "stdout",
     "output_type": "stream",
     "text": [
      "True\n",
      "False\n"
     ]
    }
   ],
   "source": [
    "text=\"chinmay\"\n",
    "text1=\"My Name Is Chinmay\"\n",
    "print(text.islower())\n",
    "print(text1.islower())"
   ]
  },
  {
   "cell_type": "markdown",
   "metadata": {},
   "source": [
    "#### isupper()--- true or false"
   ]
  },
  {
   "cell_type": "code",
   "execution_count": 10,
   "metadata": {},
   "outputs": [
    {
     "name": "stdout",
     "output_type": "stream",
     "text": [
      "False\n",
      "True\n"
     ]
    }
   ],
   "source": [
    "s=\"application\"\n",
    "s1=\"PYTHON\"\n",
    "print(s.isupper())\n",
    "print(s1.isupper())"
   ]
  },
  {
   "cell_type": "code",
   "execution_count": 13,
   "metadata": {},
   "outputs": [
    {
     "name": "stdout",
     "output_type": "stream",
     "text": [
      "True\n",
      "False\n"
     ]
    }
   ],
   "source": [
    "s='23456'\n",
    "s1=\"abc123\"\n",
    "print(s.isnumeric())\n",
    "print(s1.isnumeric())"
   ]
  },
  {
   "cell_type": "code",
   "execution_count": 14,
   "metadata": {},
   "outputs": [
    {
     "name": "stdout",
     "output_type": "stream",
     "text": [
      "True\n",
      "False\n"
     ]
    }
   ],
   "source": [
    "s=\"Application\"\n",
    "s1=\"App1899\"\n",
    "print(s.isalpha())\n",
    "print(s1.isalpha())"
   ]
  },
  {
   "cell_type": "code",
   "execution_count": 16,
   "metadata": {},
   "outputs": [
    {
     "name": "stdout",
     "output_type": "stream",
     "text": [
      "False\n",
      "True\n"
     ]
    }
   ],
   "source": [
    "s=\"python programming\"\n",
    "s1=\"Python Programming\"\n",
    "print(s.istitle())\n",
    "print(s1.istitle())"
   ]
  },
  {
   "cell_type": "code",
   "execution_count": 18,
   "metadata": {},
   "outputs": [
    {
     "name": "stdout",
     "output_type": "stream",
     "text": [
      "False\n",
      "False\n"
     ]
    }
   ],
   "source": [
    "s=\"python is a programming language\"\n",
    "s1=\"pythonisprogramming\"\n",
    "print(s.isspace())\n",
    "print(s1.isspace())"
   ]
  },
  {
   "cell_type": "markdown",
   "metadata": {},
   "source": [
    "# string methods\n",
    "##  join()\n",
    "## replace()\n",
    "## "
   ]
  },
  {
   "cell_type": "code",
   "execution_count": 21,
   "metadata": {},
   "outputs": [
    {
     "name": "stdout",
     "output_type": "stream",
     "text": [
      "p y t h o n\n"
     ]
    }
   ],
   "source": [
    "str=\"python\"\n",
    "print(\" \".join(str))"
   ]
  },
  {
   "cell_type": "markdown",
   "metadata": {},
   "source": [
    "# join"
   ]
  },
  {
   "cell_type": "code",
   "execution_count": 38,
   "metadata": {},
   "outputs": [
    {
     "name": "stdout",
     "output_type": "stream",
     "text": [
      " python,programming,is,easy\n"
     ]
    }
   ],
   "source": [
    "print(\",\".join([\" python\",\"programming\",\"is\",\"easy\"]))\n"
   ]
  },
  {
   "cell_type": "markdown",
   "metadata": {},
   "source": [
    "# replace"
   ]
  },
  {
   "cell_type": "code",
   "execution_count": 29,
   "metadata": {},
   "outputs": [
    {
     "data": {
      "text/plain": [
       "'java'"
      ]
     },
     "execution_count": 29,
     "metadata": {},
     "output_type": "execute_result"
    }
   ],
   "source": [
    "str=\"python\"\n",
    "str=(str.replace('python','java'))\n",
    "str"
   ]
  },
  {
   "cell_type": "markdown",
   "metadata": {},
   "source": [
    "# SPLIT"
   ]
  },
  {
   "cell_type": "code",
   "execution_count": 37,
   "metadata": {},
   "outputs": [
    {
     "name": "stdout",
     "output_type": "stream",
     "text": [
      "['C', 'H', 'I', 'N', 'M', 'A', 'Y']\n"
     ]
    }
   ],
   "source": [
    "S=\"C***H***I***N***M***A***Y\"\n",
    "print(S.split(\"***\"))"
   ]
  },
  {
   "cell_type": "markdown",
   "metadata": {},
   "source": [
    "# list"
   ]
  },
  {
   "cell_type": "code",
   "execution_count": 39,
   "metadata": {},
   "outputs": [
    {
     "name": "stdout",
     "output_type": "stream",
     "text": [
      "['p', 'y', 't', 'h', 'o', 'n', ' ', 'i', 's', ' ', 'a', ' ', 'v', 'e', 'r', 'y', ' ', 'i', 'n', 't', 'r', 'e', 's', 't', 'i', 'n', 'g', ' ', 'l', 'a', 'n', 'g', 'u', 'a', 'g', 'e']\n"
     ]
    }
   ],
   "source": [
    "s=\"python is a very intresting language\"\n",
    "lst=list(s)\n",
    "print(lst)"
   ]
  },
  {
   "cell_type": "code",
   "execution_count": 40,
   "metadata": {},
   "outputs": [],
   "source": [
    "# repalce"
   ]
  },
  {
   "cell_type": "code",
   "execution_count": 42,
   "metadata": {},
   "outputs": [
    {
     "name": "stdout",
     "output_type": "stream",
     "text": [
      "python proapplicationmming\n"
     ]
    }
   ],
   "source": [
    "s=(\"python programming\")\n",
    "print(s.replace(\"gra\",\"application\"))"
   ]
  },
  {
   "cell_type": "code",
   "execution_count": 48,
   "metadata": {},
   "outputs": [
    {
     "name": "stdout",
     "output_type": "stream",
     "text": [
      " ROHAN is MASS LESS\n"
     ]
    }
   ],
   "source": [
    "s=\" ROHAN is goodboy\"\n",
    "print(s.replace(\"goodboy\",\"MASS LESS\"))"
   ]
  },
  {
   "cell_type": "markdown",
   "metadata": {},
   "source": [
    "# python tuples"
   ]
  },
  {
   "cell_type": "code",
   "execution_count": 49,
   "metadata": {},
   "outputs": [
    {
     "name": "stdout",
     "output_type": "stream",
     "text": [
      "('python', 'programming', 1989, 2019, 'machine learning')\n",
      "(1, 2, 3, 4, 5)\n"
     ]
    }
   ],
   "source": [
    "s=(\"python\",\"programming\",1989,2019,\"machine learning\")\n",
    "s1=(1,2,3,4,5,)\n",
    "print(s)\n",
    "print(s1)"
   ]
  },
  {
   "cell_type": "code",
   "execution_count": 52,
   "metadata": {},
   "outputs": [
    {
     "name": "stdout",
     "output_type": "stream",
     "text": [
      "t1[0] =  python\n",
      "t1[1]=  programming\n"
     ]
    }
   ],
   "source": [
    "s=(\"python\",\"programming\",1989,2019,\"machine learning\")\n",
    "print(\"t1[0] = \",s[0])\n",
    "print(\"t1[1]= \",s[1])"
   ]
  },
  {
   "cell_type": "code",
   "execution_count": 53,
   "metadata": {},
   "outputs": [
    {
     "name": "stdout",
     "output_type": "stream",
     "text": [
      "('python', 'programming', 1989, 2019, 'machine learning')\n"
     ]
    },
    {
     "ename": "NameError",
     "evalue": "name 's' is not defined",
     "output_type": "error",
     "traceback": [
      "\u001b[1;31m---------------------------------------------------------------------------\u001b[0m",
      "\u001b[1;31mNameError\u001b[0m                                 Traceback (most recent call last)",
      "\u001b[1;32m<ipython-input-53-cbeabe0de398>\u001b[0m in \u001b[0;36m<module>\u001b[1;34m\u001b[0m\n\u001b[0;32m      2\u001b[0m \u001b[0mprint\u001b[0m\u001b[1;33m(\u001b[0m\u001b[0ms\u001b[0m\u001b[1;33m)\u001b[0m\u001b[1;33m\u001b[0m\u001b[1;33m\u001b[0m\u001b[0m\n\u001b[0;32m      3\u001b[0m \u001b[1;32mdel\u001b[0m \u001b[0ms\u001b[0m\u001b[1;33m\u001b[0m\u001b[1;33m\u001b[0m\u001b[0m\n\u001b[1;32m----> 4\u001b[1;33m \u001b[0mprint\u001b[0m\u001b[1;33m(\u001b[0m\u001b[0ms\u001b[0m\u001b[1;33m)\u001b[0m\u001b[1;33m\u001b[0m\u001b[1;33m\u001b[0m\u001b[0m\n\u001b[0m",
      "\u001b[1;31mNameError\u001b[0m: name 's' is not defined"
     ]
    }
   ],
   "source": [
    "s=(\"python\",\"programming\",1989,2019,\"machine learning\")\n",
    "print(s)\n",
    "del s\n",
    "print(s)"
   ]
  },
  {
   "cell_type": "code",
   "execution_count": 54,
   "metadata": {},
   "outputs": [
    {
     "name": "stdout",
     "output_type": "stream",
     "text": [
      "('python', 'programming', 1989, 2019, 'machine learning', 12, 13, 'ai', 'bi')\n"
     ]
    }
   ],
   "source": [
    "s=(\"python\",\"programming\",1989,2019,\"machine learning\")\n",
    "s1=12,13,\"ai\",\"bi\"\n",
    "s2=s+s1\n",
    "print(s2)"
   ]
  },
  {
   "cell_type": "markdown",
   "metadata": {},
   "source": [
    "# python directory"
   ]
  },
  {
   "cell_type": "code",
   "execution_count": 65,
   "metadata": {},
   "outputs": [
    {
     "name": "stdout",
     "output_type": "stream",
     "text": [
      "user[email id]\n",
      "user[address]\n",
      "user[name] =  chinmay\n",
      "user[age] =  19\n",
      "user[address]=  LAS VEGAS\n",
      "user[email id]=  CHINMAYKRISHNA@gmail.com\n"
     ]
    }
   ],
   "source": [
    "user={\"name\" : \"chinmay\",\"age\" : \"19\",\"address\" : \"dubai\",\"email id\" : \"chinmaykrishna999@gmail.com\",\"phone nmber\" : \"9030997968\"}\n",
    "user[\"email id\"]=\"CHINMAYKRISHNA@gmail.com\"\n",
    "print(\"user[email id]\")\n",
    "user[\"address\"]=\"LAS VEGAS\"\n",
    "print(\"user[address]\")\n",
    "print(\"user[name] = \" ,user[\"name\"])\n",
    "print(\"user[age] = \" , user[\"age\"])\n",
    "print(\"user[address]= \",user[\"address\"])\n",
    "print(\"user[email id]= \",user[\"email id\"])\n"
   ]
  },
  {
   "cell_type": "code",
   "execution_count": 70,
   "metadata": {},
   "outputs": [
    {
     "name": "stdout",
     "output_type": "stream",
     "text": [
      "{'name': 'chinmay', 'address': 'dubai', 'email id': 'chinmaykrishna999@gmail.com', 'phone nmber': '9030997968'}\n"
     ]
    }
   ],
   "source": [
    "user={\"name\" : \"chinmay\",\"age\" : \"19\",\"address\" : \"dubai\",\"email id\" : \"chinmaykrishna999@gmail.com\",\"phone nmber\" : \"9030997968\"}\n",
    "del user[\"age\"]\n",
    "print(user)\n",
    "user.clear()\n",
    "del user\n",
    "\n"
   ]
  },
  {
   "cell_type": "markdown",
   "metadata": {},
   "source": [
    "# len of dicf"
   ]
  },
  {
   "cell_type": "code",
   "execution_count": 71,
   "metadata": {},
   "outputs": [
    {
     "name": "stdout",
     "output_type": "stream",
     "text": [
      "5\n"
     ]
    }
   ],
   "source": [
    "user={\"name\" : \"chinmay\",\"age\" : \"19\",\"address\" : \"dubai\",\"email id\" : \"chinmaykrishna999@gmail.com\",\"phone nmber\" : \"9030997968\"}\n",
    "print(len(user))"
   ]
  },
  {
   "cell_type": "markdown",
   "metadata": {},
   "source": [
    "# add and modify"
   ]
  },
  {
   "cell_type": "code",
   "execution_count": 78,
   "metadata": {},
   "outputs": [
    {
     "name": "stdout",
     "output_type": "stream",
     "text": [
      "{'name': 'chinmay', 'age': '19', 'address': 'dubai', 'email id': 'chinmaykrishna999@gmail.com', 'phone nmber': '9030997968'}\n",
      "{'name': 'chinmay', 'age': '19', 'address': 'dubai', 'email id': 'chinmaykrishna999@gmail.com', 'phone nmber': '9030997968'}\n",
      "{'name': 'chinmay', 'age': '19', 'address': 'LAS VEGAS', 'email id': 'chinmaykrishna999@gmail.com', 'phone nmber': '9030997968'}\n",
      "{'name': 'chinmay', 'age': '19', 'address': 'dubai', 'email id': 'chinmaykrishna999@gmail.com', 'phone nmber': '9030997968'}\n"
     ]
    }
   ],
   "source": [
    "\n",
    "\n",
    "user={\"name\" :\"chinmay\",\"age\" :\"19\",\"address\" :\"dubai\",\"email id\" :\"chinmaykrishna999@gmail.com\",\"phone nmber\" :\"9030997968\"}\n",
    "user2=user.copy()\n",
    "print(user)\n",
    "print(user2)\n",
    "user[\"address\"] = \"LAS VEGAS\"\n",
    "print(user)\n",
    "print(user2)"
   ]
  },
  {
   "cell_type": "markdown",
   "metadata": {},
   "source": [
    "# values"
   ]
  },
  {
   "cell_type": "code",
   "execution_count": 77,
   "metadata": {},
   "outputs": [
    {
     "name": "stdout",
     "output_type": "stream",
     "text": [
      "dict_values(['chinmay', '19', 'dubai', 'chinmaykrishna999@gmail.com', '9030997968'])\n",
      "dict_values(['chinmay', '19', 'dubai', 'chinmaykrishna999@gmail.com', '9030997968'])\n"
     ]
    }
   ],
   "source": [
    "\n",
    "\n",
    "user={\"name\" : \"chinmay\",\"age\" : \"19\",\"address\" : \"dubai\",\"email id\" : \"chinmaykrishna999@gmail.com\",\"phone nmber\" : \"9030997968\"}\n",
    "print(user.values())\n",
    "user1=user.copy()\n",
    "print(user1.values())"
   ]
  },
  {
   "cell_type": "markdown",
   "metadata": {},
   "source": [
    "# items"
   ]
  },
  {
   "cell_type": "code",
   "execution_count": 76,
   "metadata": {},
   "outputs": [
    {
     "name": "stdout",
     "output_type": "stream",
     "text": [
      "dict_items([('name', 'chinmay'), ('age', '19'), ('address', 'dubai'), ('email id', 'chinmaykrishna999@gmail.com'), ('phone nmber', '9030997968')])\n"
     ]
    }
   ],
   "source": [
    "user={\"name\" : \"chinmay\",\"age\" : \"19\",\"address\" : \"dubai\",\"email id\" : \"chinmaykrishna999@gmail.com\",\"phone nmber\" : \"9030997968\"}\n",
    "print(user.items())"
   ]
  },
  {
   "cell_type": "code",
   "execution_count": 79,
   "metadata": {},
   "outputs": [
    {
     "name": "stdout",
     "output_type": "stream",
     "text": [
      "python programming\n"
     ]
    }
   ],
   "source": [
    "list=[\"python\",\"programming\"]\n",
    "print(\"{0} {1}\".format(list[0],list[1]))"
   ]
  },
  {
   "cell_type": "code",
   "execution_count": 81,
   "metadata": {},
   "outputs": [
    {
     "name": "stdout",
     "output_type": "stream",
     "text": [
      "python programming\n"
     ]
    }
   ],
   "source": [
    "list=[\"python\",\"programming\"]\n",
    "print(\"%s %s\" %(list[0],list[1]))"
   ]
  },
  {
   "cell_type": "markdown",
   "metadata": {},
   "source": [
    "# cojntact application\n",
    "## creat contact"
   ]
  },
  {
   "cell_type": "code",
   "execution_count": 15,
   "metadata": {},
   "outputs": [
    {
     "name": "stdout",
     "output_type": "stream",
     "text": [
      "contact chinmay   added\n",
      "{'chinmay': 9030997968}\n",
      "contact  chinmay  already exists\n",
      "{'chinmay': 9030997968}\n",
      "contact charith   added\n",
      "{'chinmay': 9030997968, 'charith': 9304567876}\n",
      "contact rohan   added\n",
      "{'chinmay': 9030997968, 'charith': 9304567876, 'rohan': 9876543456}\n"
     ]
    }
   ],
   "source": [
    "contacts = {}\n",
    "def addcontact(name,phone):\n",
    "    if name not in contacts:\n",
    "        contacts[name]=phone\n",
    "        print(\"contact %s   added\"  %  name)\n",
    "    else: \n",
    "        print(\"contact  %s  already exists\"  %   name)\n",
    "    return\n",
    "\n",
    "addcontact(\"chinmay\",9030997968)\n",
    "print(contacts)\n",
    "addcontact(\"chinmay\",9030997968)\n",
    "print(contacts)\n",
    "addcontact(\"charith\",9304567876)\n",
    "print(contacts)\n",
    "addcontact(\"rohan\",9876543456)\n",
    "print(contacts)"
   ]
  },
  {
   "cell_type": "markdown",
   "metadata": {},
   "source": [
    "# search"
   ]
  },
  {
   "cell_type": "code",
   "execution_count": 17,
   "metadata": {},
   "outputs": [
    {
     "name": "stdout",
     "output_type": "stream",
     "text": [
      "chinmay  :  9030997968\n",
      "rohan  :  9876543456\n",
      "charith  :  9304567876\n",
      " maneesh contact does not exists\n"
     ]
    }
   ],
   "source": [
    "def searchcontact(name):\n",
    "    if name in contacts:\n",
    "        print(name,  \" : \" ,contacts[name])\n",
    "    else:\n",
    "        print(\" %s contact does not exists\"% name)\n",
    "        \n",
    "    return\n",
    "searchcontact(\"chinmay\")\n",
    "searchcontact(\"rohan\")\n",
    "searchcontact(\"charith\")\n",
    "searchcontact(\"maneesh\")"
   ]
  },
  {
   "cell_type": "markdown",
   "metadata": {},
   "source": [
    "# adding contacts"
   ]
  },
  {
   "cell_type": "code",
   "execution_count": 22,
   "metadata": {},
   "outputs": [
    {
     "name": "stdout",
     "output_type": "stream",
     "text": [
      "2 contact added successfully\n"
     ]
    }
   ],
   "source": [
    "def importcontact(newcontacts):\n",
    "    contacts.update(newcontacts)\n",
    "    print(len(newcontacts.keys()), \"contact added successfully\")\n",
    "    return\n",
    "newcontacts={ \" shashank\":90273645435,\"abhi shake\":9876576879}\n",
    "importcontact(newcontacts)"
   ]
  },
  {
   "cell_type": "markdown",
   "metadata": {},
   "source": [
    "# delete contact"
   ]
  },
  {
   "cell_type": "code",
   "execution_count": 24,
   "metadata": {},
   "outputs": [
    {
     "name": "stdout",
     "output_type": "stream",
     "text": [
      "maneesh  do not exists in the contscts\n",
      "manish  do not exists in the contscts\n"
     ]
    }
   ],
   "source": [
    "def deletecontact(name):\n",
    "    if name is contacts:\n",
    "        del contacts[name]\n",
    "        print(name,\" : is deleted from the contacts\")\n",
    "    else:\n",
    "        print(name,\" do not exists in the contscts\")\n",
    "    return\n",
    "\n",
    "deletecontact(\"maneesh\")\n",
    "deletecontact(\"manish\")"
   ]
  },
  {
   "cell_type": "code",
   "execution_count": 25,
   "metadata": {},
   "outputs": [
    {
     "name": "stdout",
     "output_type": "stream",
     "text": [
      "{'chinmay': 9030997968, 'charith': 9304567876, 'rohan': 9876543456, ' shashank': 90273645435, 'abhi shake': 9876576879}\n"
     ]
    }
   ],
   "source": [
    "print(contacts)"
   ]
  },
  {
   "cell_type": "markdown",
   "metadata": {},
   "source": [
    "# update contact"
   ]
  },
  {
   "cell_type": "code",
   "execution_count": 27,
   "metadata": {},
   "outputs": [
    {
     "name": "stdout",
     "output_type": "stream",
     "text": [
      "charith updated\n",
      "{'chinmay': 9030997968, 'charith': 4564564563, 'rohan': 9876543456, ' shashank': 90273645435, 'abhi shake': 9876576879}\n"
     ]
    }
   ],
   "source": [
    "def updatecontact(name,phone):\n",
    "    if name in contacts:\n",
    "        contacts[name]=phone\n",
    "        print(name,\"updated\")\n",
    "    else:\n",
    "        print(name,\"donot exists\")\n",
    "    return\n",
    "\n",
    "updatecontact(\"charith\",4564564563)\n",
    "print(contacts)"
   ]
  },
  {
   "cell_type": "code",
   "execution_count": 30,
   "metadata": {},
   "outputs": [
    {
     "name": "stdout",
     "output_type": "stream",
     "text": [
      "1 2 3 4\n"
     ]
    }
   ],
   "source": [
    "lst=[1,2,3,4]\n",
    "print(\"%d %d %d %d\"%(lst[0],lst[1],lst[2],lst[3]))"
   ]
  },
  {
   "cell_type": "code",
   "execution_count": 31,
   "metadata": {},
   "outputs": [
    {
     "name": "stdout",
     "output_type": "stream",
     "text": [
      "value at: 1 value at:2\n",
      "value at: 3 value at:4\n"
     ]
    }
   ],
   "source": [
    "lst=[1,2,3,4]\n",
    "print(\"value at: {0} value at:{1}\".format(lst[0],lst[1]))\n",
    "print(\"value at: {0} value at:{1}\".format(lst[2],lst[3]))"
   ]
  },
  {
   "cell_type": "markdown",
   "metadata": {},
   "source": [
    "# python packages and modules"
   ]
  },
  {
   "cell_type": "code",
   "execution_count": 32,
   "metadata": {},
   "outputs": [
    {
     "data": {
      "text/plain": [
       "546587"
      ]
     },
     "execution_count": 32,
     "metadata": {},
     "output_type": "execute_result"
    }
   ],
   "source": [
    "from math import floor as f1 \n",
    "f1(546587.6574657)"
   ]
  },
  {
   "cell_type": "code",
   "execution_count": 34,
   "metadata": {},
   "outputs": [
    {
     "data": {
      "text/plain": [
       "120"
      ]
     },
     "execution_count": 34,
     "metadata": {},
     "output_type": "execute_result"
    }
   ],
   "source": [
    "from math import factorial as fact\n",
    "fact(5)"
   ]
  },
  {
   "cell_type": "code",
   "execution_count": 36,
   "metadata": {},
   "outputs": [
    {
     "data": {
      "text/plain": [
       "120"
      ]
     },
     "execution_count": 36,
     "metadata": {},
     "output_type": "execute_result"
    }
   ],
   "source": [
    "import math\n",
    "math.factorial(5)"
   ]
  },
  {
   "cell_type": "markdown",
   "metadata": {},
   "source": [
    "###### generate tyhe random numbers between twolimits"
   ]
  },
  {
   "cell_type": "code",
   "execution_count": 39,
   "metadata": {},
   "outputs": [
    {
     "name": "stdout",
     "output_type": "stream",
     "text": [
      "72 45 67 43 64 33 72 67 25 55 68 78 30 79 24 44 49 82 43 77 46 56 66 45 23 75 57 89 86 34 23 61 72 25 42 42 40 24 70 57 72 68 84 74 57 31 63 32 86 61 55 69 63 61 27 36 24 72 23 25 42 78 61 70 81 61 61 53 88 29 24 78 62 34 30 53 30 58 45 83 53 58 55 63 51 57 58 74 75 38 47 89 88 65 54 36 52 81 32 56 "
     ]
    }
   ],
   "source": [
    "import random\n",
    "def generaterandomnumbers(n,lb,ub):\n",
    "    for i in range(0,n):\n",
    "        print(random.randint(lb,ub),end=\" \")\n",
    "    return\n",
    "generaterandomnumbers(100,23,89)"
   ]
  },
  {
   "cell_type": "markdown",
   "metadata": {},
   "source": [
    "# math \n",
    "## square root"
   ]
  },
  {
   "cell_type": "code",
   "execution_count": 40,
   "metadata": {},
   "outputs": [
    {
     "data": {
      "text/plain": [
       "2.0"
      ]
     },
     "execution_count": 40,
     "metadata": {},
     "output_type": "execute_result"
    }
   ],
   "source": [
    "\n",
    "import math\n",
    "math.sqrt(4)"
   ]
  },
  {
   "cell_type": "markdown",
   "metadata": {},
   "source": [
    "### smallintegral value greater thanthe number"
   ]
  },
  {
   "cell_type": "code",
   "execution_count": 43,
   "metadata": {},
   "outputs": [
    {
     "name": "stdout",
     "output_type": "stream",
     "text": [
      "The ceil of 2.3 is : 3\n"
     ]
    }
   ],
   "source": [
    "a=2.3\n",
    "print (\"The ceil of 2.3 is : \", end=\"\") \n",
    "print (math.ceil(a))"
   ]
  },
  {
   "cell_type": "markdown",
   "metadata": {},
   "source": [
    "### floor greatest integer smaller than thenumber"
   ]
  },
  {
   "cell_type": "code",
   "execution_count": 44,
   "metadata": {},
   "outputs": [
    {
     "name": "stdout",
     "output_type": "stream",
     "text": [
      "The floor of 2.3 is : 2\n"
     ]
    }
   ],
   "source": [
    "a=2.3\n",
    "print (\"The floor of 2.3 is : \", end=\"\") \n",
    "print (math.floor(a)) \n"
   ]
  },
  {
   "cell_type": "markdown",
   "metadata": {},
   "source": [
    "### fabs: absolute value"
   ]
  },
  {
   "cell_type": "code",
   "execution_count": 45,
   "metadata": {},
   "outputs": [
    {
     "name": "stdout",
     "output_type": "stream",
     "text": [
      "The absolute value of -10 is : 10.0\n"
     ]
    }
   ],
   "source": [
    "a= -10\n",
    "b=5\n",
    "print (\"The absolute value of -10 is : \", end=\"\") \n",
    "print (math.fabs(a)) \n"
   ]
  },
  {
   "cell_type": "markdown",
   "metadata": {},
   "source": [
    "### factorial"
   ]
  },
  {
   "cell_type": "code",
   "execution_count": 46,
   "metadata": {},
   "outputs": [
    {
     "name": "stdout",
     "output_type": "stream",
     "text": [
      "The factorial of 5 is : 120\n"
     ]
    }
   ],
   "source": [
    "b=5\n",
    "print (\"The factorial of 5 is : \", end=\"\") \n",
    "print (math.factorial(b)) \n"
   ]
  },
  {
   "cell_type": "markdown",
   "metadata": {},
   "source": [
    "###    copy sign :value of ‘a’ but with the sign of ‘b’. \n",
    "\n"
   ]
  },
  {
   "cell_type": "code",
   "execution_count": 49,
   "metadata": {},
   "outputs": [
    {
     "name": "stdout",
     "output_type": "stream",
     "text": [
      "The copysigned value of -10 and 5.5 is : -5.5\n"
     ]
    }
   ],
   "source": [
    "a = -10\n",
    "b = 5.5\n",
    "c = 15\n",
    "d = 5\n",
    "print (\"The copysigned value of -10 and 5.5 is : \", end=\"\") \n",
    "print (math.copysign(5.5, -10)) \n"
   ]
  },
  {
   "cell_type": "markdown",
   "metadata": {},
   "source": [
    "### greatest common divisor of 2 numbers"
   ]
  },
  {
   "cell_type": "code",
   "execution_count": 50,
   "metadata": {},
   "outputs": [
    {
     "name": "stdout",
     "output_type": "stream",
     "text": [
      "The gcd of 5 and 15 is : 5\n"
     ]
    }
   ],
   "source": [
    "a=-10\n",
    "b=5.5\n",
    "c=15\n",
    "d=5\n",
    "\n",
    "print (\"The gcd of 5 and 15 is : \", end=\"\") \n",
    "print (math.gcd(5,15)) \n"
   ]
  },
  {
   "cell_type": "markdown",
   "metadata": {},
   "source": [
    "###  exponential"
   ]
  },
  {
   "cell_type": "code",
   "execution_count": 51,
   "metadata": {},
   "outputs": [
    {
     "name": "stdout",
     "output_type": "stream",
     "text": [
      "The value of 5^e: 148.4131591025766\n"
     ]
    }
   ],
   "source": [
    "import math\n",
    "print('The value of 5^e: ' + str(math.exp(5)))\n"
   ]
  },
  {
   "cell_type": "markdown",
   "metadata": {},
   "source": [
    "### log"
   ]
  },
  {
   "cell_type": "code",
   "execution_count": 52,
   "metadata": {},
   "outputs": [
    {
     "name": "stdout",
     "output_type": "stream",
     "text": [
      "The value of Log(625), base 5: 4.0\n"
     ]
    }
   ],
   "source": [
    "import math\n",
    "print('The value of Log(625), base 5: ' + str(math.log(625, 5)))\n"
   ]
  },
  {
   "cell_type": "markdown",
   "metadata": {},
   "source": [
    "### return the xtothe power value"
   ]
  },
  {
   "cell_type": "code",
   "execution_count": 56,
   "metadata": {},
   "outputs": [
    {
     "name": "stdout",
     "output_type": "stream",
     "text": [
      "The value of 5^8: 390625.0\n"
     ]
    }
   ],
   "source": [
    "import math\n",
    "print('The value of 5^8: ' + str(math.pow(5, 8)))\n"
   ]
  },
  {
   "cell_type": "code",
   "execution_count": null,
   "metadata": {},
   "outputs": [],
   "source": []
  }
 ],
 "metadata": {
  "kernelspec": {
   "display_name": "Python 3",
   "language": "python",
   "name": "python3"
  },
  "language_info": {
   "codemirror_mode": {
    "name": "ipython",
    "version": 3
   },
   "file_extension": ".py",
   "mimetype": "text/x-python",
   "name": "python",
   "nbconvert_exporter": "python",
   "pygments_lexer": "ipython3",
   "version": "3.7.3"
  }
 },
 "nbformat": 4,
 "nbformat_minor": 2
}
